{
  "nbformat": 4,
  "nbformat_minor": 0,
  "metadata": {
    "colab": {
      "name": "Vicky day 9 assignment.ipynb",
      "provenance": [],
      "collapsed_sections": [],
      "authorship_tag": "ABX9TyPki7rNJo4kI0yFauKOZDGa",
      "include_colab_link": true
    },
    "kernelspec": {
      "name": "python3",
      "display_name": "Python 3"
    }
  },
  "cells": [
    {
      "cell_type": "markdown",
      "metadata": {
        "id": "view-in-github",
        "colab_type": "text"
      },
      "source": [
        "<a href=\"https://colab.research.google.com/github/vickyradax/Lets-Upgrade-Python-Essentials/blob/master/Vicky_day_9_assignment.ipynb\" target=\"_parent\"><img src=\"https://colab.research.google.com/assets/colab-badge.svg\" alt=\"Open In Colab\"/></a>"
      ]
    },
    {
      "cell_type": "markdown",
      "metadata": {
        "id": "riNpDmAHssUF",
        "colab_type": "text"
      },
      "source": [
        "Unit testing"
      ]
    },
    {
      "cell_type": "code",
      "metadata": {
        "id": "YetTDlEpsY_d",
        "colab_type": "code",
        "colab": {
          "base_uri": "https://localhost:8080/",
          "height": 411
        },
        "outputId": "b2733cd1-afec-498f-976a-3b1c991888bd"
      },
      "source": [
        " ! pip install pylint"
      ],
      "execution_count": null,
      "outputs": [
        {
          "output_type": "stream",
          "text": [
            "Collecting pylint\n",
            "\u001b[?25l  Downloading https://files.pythonhosted.org/packages/fb/13/519c1264a134beab2be4bac8dd3e64948980a5ca7833b31cf0255b21f20a/pylint-2.6.0-py3-none-any.whl (325kB)\n",
            "\u001b[K     |████████████████████████████████| 327kB 4.5MB/s \n",
            "\u001b[?25hCollecting astroid<=2.5,>=2.4.0\n",
            "\u001b[?25l  Downloading https://files.pythonhosted.org/packages/24/a8/5133f51967fb21e46ee50831c3f5dda49e976b7f915408d670b1603d41d6/astroid-2.4.2-py3-none-any.whl (213kB)\n",
            "\u001b[K     |████████████████████████████████| 215kB 13.8MB/s \n",
            "\u001b[?25hCollecting isort<6,>=4.2.5\n",
            "\u001b[?25l  Downloading https://files.pythonhosted.org/packages/d1/25/7ed95ccb07d3ce52598f5a57d002da6a18074ea8749991b10936cc20e539/isort-5.5.2-py3-none-any.whl (95kB)\n",
            "\u001b[K     |████████████████████████████████| 102kB 8.3MB/s \n",
            "\u001b[?25hRequirement already satisfied: toml>=0.7.1 in /usr/local/lib/python3.6/dist-packages (from pylint) (0.10.1)\n",
            "Collecting mccabe<0.7,>=0.6\n",
            "  Downloading https://files.pythonhosted.org/packages/87/89/479dc97e18549e21354893e4ee4ef36db1d237534982482c3681ee6e7b57/mccabe-0.6.1-py2.py3-none-any.whl\n",
            "Collecting lazy-object-proxy==1.4.*\n",
            "\u001b[?25l  Downloading https://files.pythonhosted.org/packages/0b/dd/b1e3407e9e6913cf178e506cd0dee818e58694d9a5cd1984e3f6a8b9a10f/lazy_object_proxy-1.4.3-cp36-cp36m-manylinux1_x86_64.whl (55kB)\n",
            "\u001b[K     |████████████████████████████████| 61kB 7.0MB/s \n",
            "\u001b[?25hCollecting typed-ast<1.5,>=1.4.0; implementation_name == \"cpython\" and python_version < \"3.8\"\n",
            "\u001b[?25l  Downloading https://files.pythonhosted.org/packages/90/ed/5459080d95eb87a02fe860d447197be63b6e2b5e9ff73c2b0a85622994f4/typed_ast-1.4.1-cp36-cp36m-manylinux1_x86_64.whl (737kB)\n",
            "\u001b[K     |████████████████████████████████| 747kB 14.5MB/s \n",
            "\u001b[?25hRequirement already satisfied: six~=1.12 in /usr/local/lib/python3.6/dist-packages (from astroid<=2.5,>=2.4.0->pylint) (1.15.0)\n",
            "Requirement already satisfied: wrapt~=1.11 in /usr/local/lib/python3.6/dist-packages (from astroid<=2.5,>=2.4.0->pylint) (1.12.1)\n",
            "Installing collected packages: lazy-object-proxy, typed-ast, astroid, isort, mccabe, pylint\n",
            "Successfully installed astroid-2.4.2 isort-5.5.2 lazy-object-proxy-1.4.3 mccabe-0.6.1 pylint-2.6.0 typed-ast-1.4.1\n"
          ],
          "name": "stdout"
        }
      ]
    },
    {
      "cell_type": "code",
      "metadata": {
        "id": "QHuJp20ns3FS",
        "colab_type": "code",
        "colab": {
          "base_uri": "https://localhost:8080/",
          "height": 326
        },
        "outputId": "140be1d5-630e-48f5-c957-fdb71d951c5b"
      },
      "source": [
        " ! pip install unittest2"
      ],
      "execution_count": null,
      "outputs": [
        {
          "output_type": "stream",
          "text": [
            "Collecting unittest2\n",
            "\u001b[?25l  Downloading https://files.pythonhosted.org/packages/72/20/7f0f433060a962200b7272b8c12ba90ef5b903e218174301d0abfd523813/unittest2-1.1.0-py2.py3-none-any.whl (96kB)\n",
            "\r\u001b[K     |███▍                            | 10kB 17.3MB/s eta 0:00:01\r\u001b[K     |██████▉                         | 20kB 3.4MB/s eta 0:00:01\r\u001b[K     |██████████▏                     | 30kB 4.4MB/s eta 0:00:01\r\u001b[K     |█████████████▋                  | 40kB 4.6MB/s eta 0:00:01\r\u001b[K     |█████████████████               | 51kB 3.8MB/s eta 0:00:01\r\u001b[K     |████████████████████▍           | 61kB 4.3MB/s eta 0:00:01\r\u001b[K     |███████████████████████▉        | 71kB 4.7MB/s eta 0:00:01\r\u001b[K     |███████████████████████████▏    | 81kB 5.1MB/s eta 0:00:01\r\u001b[K     |██████████████████████████████▋ | 92kB 5.5MB/s eta 0:00:01\r\u001b[K     |████████████████████████████████| 102kB 4.2MB/s \n",
            "\u001b[?25hCollecting traceback2\n",
            "  Downloading https://files.pythonhosted.org/packages/17/0a/6ac05a3723017a967193456a2efa0aa9ac4b51456891af1e2353bb9de21e/traceback2-1.4.0-py2.py3-none-any.whl\n",
            "Requirement already satisfied: six>=1.4 in /usr/local/lib/python3.6/dist-packages (from unittest2) (1.15.0)\n",
            "Collecting argparse\n",
            "  Downloading https://files.pythonhosted.org/packages/f2/94/3af39d34be01a24a6e65433d19e107099374224905f1e0cc6bbe1fd22a2f/argparse-1.4.0-py2.py3-none-any.whl\n",
            "Collecting linecache2\n",
            "  Downloading https://files.pythonhosted.org/packages/c7/a3/c5da2a44c85bfbb6eebcfc1dde24933f8704441b98fdde6528f4831757a6/linecache2-1.0.0-py2.py3-none-any.whl\n",
            "Installing collected packages: linecache2, traceback2, argparse, unittest2\n",
            "Successfully installed argparse-1.4.0 linecache2-1.0.0 traceback2-1.4.0 unittest2-1.1.0\n"
          ],
          "name": "stdout"
        },
        {
          "output_type": "display_data",
          "data": {
            "application/vnd.colab-display-data+json": {
              "pip_warning": {
                "packages": [
                  "argparse"
                ]
              }
            }
          },
          "metadata": {
            "tags": []
          }
        }
      ]
    },
    {
      "cell_type": "markdown",
      "metadata": {
        "id": "GJDhxtxfs_j2",
        "colab_type": "text"
      },
      "source": [
        "PyLint"
      ]
    },
    {
      "cell_type": "code",
      "metadata": {
        "id": "X8XdnS01s-9C",
        "colab_type": "code",
        "colab": {}
      },
      "source": [
        " %%writefile check_prime_number.py"
      ],
      "execution_count": null,
      "outputs": []
    },
    {
      "cell_type": "code",
      "metadata": {
        "id": "AFGzH5aMtFFw",
        "colab_type": "code",
        "colab": {
          "base_uri": "https://localhost:8080/",
          "height": 51
        },
        "outputId": "c49c9ad7-db16-4c03-b01f-ac880db10181"
      },
      "source": [
        " \n",
        "def prime(num):\n",
        "    if num > 1:\n",
        "        for i in range(2, num):\n",
        "            if (num % i) == 0:\n",
        "                break\n",
        "            return print(\"It is a Prime Number\")\n",
        "    return print(\"It is not a Prime Number\")\n",
        "n = int(input(\"enter the number :\"))\n",
        "prime(n)"
      ],
      "execution_count": null,
      "outputs": [
        {
          "output_type": "stream",
          "text": [
            "enter the number :4\n",
            "It is not a Prime Number\n"
          ],
          "name": "stdout"
        }
      ]
    },
    {
      "cell_type": "markdown",
      "metadata": {
        "id": "awwMGDV1ta9-",
        "colab_type": "text"
      },
      "source": [
        "Unittest"
      ]
    },
    {
      "cell_type": "code",
      "metadata": {
        "id": "6LOqT8MftbwJ",
        "colab_type": "code",
        "colab": {
          "base_uri": "https://localhost:8080/",
          "height": 34
        },
        "outputId": "d6023ba5-89d8-4bd7-94d7-512f480c9f60"
      },
      "source": [
        " %%writefile capitalizeText.py\n",
        " \n",
        "def capText(string_To_Cap):\n",
        "    return string_To_Cap.title()"
      ],
      "execution_count": null,
      "outputs": [
        {
          "output_type": "stream",
          "text": [
            "Writing capitalizeText.py\n"
          ],
          "name": "stdout"
        }
      ]
    },
    {
      "cell_type": "code",
      "metadata": {
        "id": "SQ5r3vxntf24",
        "colab_type": "code",
        "colab": {
          "base_uri": "https://localhost:8080/",
          "height": 34
        },
        "outputId": "2d6caba8-24b1-465d-a1f6-c49f669a3096"
      },
      "source": [
        " %%writefile test.py\n",
        "'''\n",
        "this is the test file in which we are going to check out the py file with the help of unittest\n",
        "'''\n",
        "import unittest\n",
        "import capitalizeText\n",
        " \n",
        "class testPrimeNumber(unittest.TestCase):\n",
        "    def testOne(self):\n",
        "        result = capitalizeText.capText(\"anmol noor\")\n",
        "        self.assertEqual(result,\"Anmol Noor\") \n",
        "    def testSecond(self):\n",
        "        result = capitalizeText.capText(\"this is a text string to test the unittest on a file\")\n",
        "        self.assertEqual(result,\"This Is A Text String To Test The Unittest On A File\")\n",
        "        \n",
        "if __name__ == \"__main__\":\n",
        "    unittest.main()"
      ],
      "execution_count": null,
      "outputs": [
        {
          "output_type": "stream",
          "text": [
            "Writing test.py\n"
          ],
          "name": "stdout"
        }
      ]
    },
    {
      "cell_type": "code",
      "metadata": {
        "id": "qjwNQFiZtsIG",
        "colab_type": "code",
        "colab": {
          "base_uri": "https://localhost:8080/",
          "height": 122
        },
        "outputId": "267ca866-8051-429f-d6e0-bb69784419f9"
      },
      "source": [
        " ! python test.py"
      ],
      "execution_count": null,
      "outputs": [
        {
          "output_type": "stream",
          "text": [
            "..\n",
            "----------------------------------------------------------------------\n",
            "Ran 2 tests in 0.000s\n",
            "\n",
            "OK\n"
          ],
          "name": "stdout"
        }
      ]
    },
    {
      "cell_type": "markdown",
      "metadata": {
        "id": "TMnX-ojztwrj",
        "colab_type": "text"
      },
      "source": [
        " Make a small generator program for returning armstrong numbers in between 1-1000 in a generator object."
      ]
    },
    {
      "cell_type": "code",
      "metadata": {
        "id": "pC1A9Uhrtx4h",
        "colab_type": "code",
        "colab": {}
      },
      "source": [
        " def armstrong(num):\n",
        "    for x in range(1,num):\n",
        "        if x>10:\n",
        "            order = len(str(x))\n",
        "            sum = 0\n",
        " \n",
        "            temp = x\n",
        "            while temp > 0:\n",
        "                digit = temp % 10\n",
        "                sum += digit ** order\n",
        "                temp //= 10\n",
        " \n",
        "            if x == sum:\n",
        "                yield print(\"The First armstrong Nubmer is : \", x)"
      ],
      "execution_count": null,
      "outputs": []
    },
    {
      "cell_type": "code",
      "metadata": {
        "id": "12mhT0bnt3IM",
        "colab_type": "code",
        "colab": {
          "base_uri": "https://localhost:8080/",
          "height": 105
        },
        "outputId": "2d2ed089-0f87-4a28-df93-f1c6408b1b0b"
      },
      "source": [
        " lst = list(armstrong(1000))"
      ],
      "execution_count": null,
      "outputs": [
        {
          "output_type": "stream",
          "text": [
            "The First armstrong Nubmer is :  153\n",
            "The First armstrong Nubmer is :  370\n",
            "The First armstrong Nubmer is :  371\n",
            "The First armstrong Nubmer is :  407\n"
          ],
          "name": "stdout"
        }
      ]
    }
  ]
}