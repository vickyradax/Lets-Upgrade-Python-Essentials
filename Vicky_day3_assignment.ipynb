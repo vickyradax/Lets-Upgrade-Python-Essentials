{
  "nbformat": 4,
  "nbformat_minor": 0,
  "metadata": {
    "colab": {
      "name": "Vicky day3 assignment.ipynb",
      "provenance": [],
      "authorship_tag": "ABX9TyPZRdp5T3qGyGvyNPVBsho+",
      "include_colab_link": true
    },
    "kernelspec": {
      "name": "python3",
      "display_name": "Python 3"
    }
  },
  "cells": [
    {
      "cell_type": "markdown",
      "metadata": {
        "id": "view-in-github",
        "colab_type": "text"
      },
      "source": [
        "<a href=\"https://colab.research.google.com/github/vickyradax/Lets-Upgrade-Python-Essentials/blob/master/Vicky_day3_assignment.ipynb\" target=\"_parent\"><img src=\"https://colab.research.google.com/assets/colab-badge.svg\" alt=\"Open In Colab\"/></a>"
      ]
    },
    {
      "cell_type": "code",
      "metadata": {
        "id": "73Qtf8CHxQdn",
        "colab_type": "code",
        "colab": {}
      },
      "source": [
        ""
      ],
      "execution_count": null,
      "outputs": []
    },
    {
      "cell_type": "markdown",
      "metadata": {
        "id": "Izc9dw8XxVdM",
        "colab_type": "text"
      },
      "source": [
        "Assignment 1"
      ]
    },
    {
      "cell_type": "markdown",
      "metadata": {
        "id": "30Tpxtcbxstj",
        "colab_type": "text"
      },
      "source": [
        " You all are Pilots, you want to land a plane safely, so altitude required for landing a plane is\n",
        "1000ft, it it is less than tell pilot to land the plane, or it is more than that but less than 5000ft ask\n",
        "the pilot to “come down to 1000ft”, else if it more than 5000ft ask the pilot to “go around and try\n",
        "later”\n",
        "Example : Input - 1000\n",
        "Output - Safe to Land\n",
        "Example : Input - 4500\n",
        "Output - Bring down to 1000\n",
        "Example : Input - 6500\n",
        "Output - Turn Around"
      ]
    },
    {
      "cell_type": "code",
      "metadata": {
        "id": "F3iBzzhV4n-B",
        "colab_type": "code",
        "colab": {
          "base_uri": "https://localhost:8080/",
          "height": 51
        },
        "outputId": "4b8becdd-a48a-4a13-e8aa-93b351282fb4"
      },
      "source": [
        " num = input( \" Enter any number- \") \n",
        "num = int (num) \n",
        "if num ==1000:\n",
        "    print (\" Safe to land \") \n",
        "elif 1000<num<5000:\n",
        "    print (\" Bring down to 1000\") \n",
        "else:\n",
        "    print (\" Turn around \")"
      ],
      "execution_count": null,
      "outputs": [
        {
          "output_type": "stream",
          "text": [
            " Enter any number- 6000\n",
            " Turn around \n"
          ],
          "name": "stdout"
        }
      ]
    },
    {
      "cell_type": "markdown",
      "metadata": {
        "id": "GWNeHDLO9g8p",
        "colab_type": "text"
      },
      "source": [
        "Assignment 2"
      ]
    },
    {
      "cell_type": "markdown",
      "metadata": {
        "id": "fVNFhmJc933I",
        "colab_type": "text"
      },
      "source": [
        " Using for loop please print all the prime numbers between 1- 200 using FOR LOOP AND RANGE\n",
        "function.\n",
        "Output-\n",
        "2,3,5,7….."
      ]
    },
    {
      "cell_type": "code",
      "metadata": {
        "id": "06eBRbVA5JJz",
        "colab_type": "code",
        "colab": {}
      },
      "source": [
        "lower = 1\n",
        "upper = 200\n",
        "print(\"prime numbers between\",lower, \"and\" ,upper, \"are:\")\n",
        "for num in range(lower,upper + 1):\n",
        "  if num > 1:\n",
        "   for i in range(2,num):\n",
        "    if (num % i) == 0:\n",
        "      break\n",
        "    else:\n",
        "     print(num)"
      ],
      "execution_count": null,
      "outputs": []
    }
  ]
}