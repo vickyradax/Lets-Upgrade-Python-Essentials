{
  "nbformat": 4,
  "nbformat_minor": 0,
  "metadata": {
    "colab": {
      "name": "Vicky day 4 assignment.ipynb",
      "provenance": [],
      "collapsed_sections": [],
      "authorship_tag": "ABX9TyMEbvEyobSte0ulHl7SFYFR",
      "include_colab_link": true
    },
    "kernelspec": {
      "name": "python3",
      "display_name": "Python 3"
    }
  },
  "cells": [
    {
      "cell_type": "markdown",
      "metadata": {
        "id": "view-in-github",
        "colab_type": "text"
      },
      "source": [
        "<a href=\"https://colab.research.google.com/github/vickyradax/Lets-Upgrade-Python-Essentials/blob/master/Vicky_day_4_assignment.ipynb\" target=\"_parent\"><img src=\"https://colab.research.google.com/assets/colab-badge.svg\" alt=\"Open In Colab\"/></a>"
      ]
    },
    {
      "cell_type": "markdown",
      "metadata": {
        "id": "wJEPEUySBt0G",
        "colab_type": "text"
      },
      "source": [
        "Day 4 assignment"
      ]
    },
    {
      "cell_type": "code",
      "metadata": {
        "id": "BwAzdn4-BreP",
        "colab_type": "code",
        "colab": {
          "base_uri": "https://localhost:8080/",
          "height": 54
        },
        "outputId": "de20fde2-964f-4956-d43b-55a665e820e3"
      },
      "source": [
        " for num in range(1042000,702648265):\n",
        "    temp=num\n",
        "    order = len(str(num))\n",
        "    sum=0\n",
        "    while temp>0:\n",
        "        digit=temp%10\n",
        "        sum+=digit**order\n",
        "        temp//=10\n",
        "    if num==sum:\n",
        "        print(\"The First Armstrong Number in a given range : \",sum)\n",
        "        break"
      ],
      "execution_count": 19,
      "outputs": [
        {
          "output_type": "stream",
          "text": [
            "The First Armstrong Number in a given range :  1741725\n"
          ],
          "name": "stdout"
        }
      ]
    }
  ]
}