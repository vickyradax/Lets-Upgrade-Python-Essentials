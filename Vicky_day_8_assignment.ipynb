{
  "nbformat": 4,
  "nbformat_minor": 0,
  "metadata": {
    "colab": {
      "name": "Vicky day 8 assignment.ipynb",
      "provenance": [],
      "collapsed_sections": [],
      "authorship_tag": "ABX9TyOSqeDj00cAPpGpLB37yrGB",
      "include_colab_link": true
    },
    "kernelspec": {
      "name": "python3",
      "display_name": "Python 3"
    }
  },
  "cells": [
    {
      "cell_type": "markdown",
      "metadata": {
        "id": "view-in-github",
        "colab_type": "text"
      },
      "source": [
        "<a href=\"https://colab.research.google.com/github/vickyradax/Lets-Upgrade-Python-Essentials/blob/master/Vicky_day_8_assignment.ipynb\" target=\"_parent\"><img src=\"https://colab.research.google.com/assets/colab-badge.svg\" alt=\"Open In Colab\"/></a>"
      ]
    },
    {
      "cell_type": "code",
      "metadata": {
        "id": "AFrns_FcqJbL",
        "colab_type": "code",
        "colab": {}
      },
      "source": [
        " arr = []"
      ],
      "execution_count": null,
      "outputs": []
    },
    {
      "cell_type": "code",
      "metadata": {
        "id": "ZNZ8y5woqbKj",
        "colab_type": "code",
        "colab": {}
      },
      "source": [
        " def getInput(calculate_arg_fun):\n",
        "    def wrap_function():\n",
        "        print(\"Hey people enter two numbers =\")\n",
        "        a = int(input(\"Enter your upper limit - \"))\n",
        "        b = int(input(\"Enter your lower limit - \"))\n",
        "        for i in range(a,b):\n",
        "            calculate_arg_fun(i)   \n",
        "    return wrap_function"
      ],
      "execution_count": 6,
      "outputs": []
    },
    {
      "cell_type": "code",
      "metadata": {
        "id": "vNO-OC1Vqeoi",
        "colab_type": "code",
        "colab": {}
      },
      "source": [
        " @getInput\n",
        "def prime(num):\n",
        "    check = 0\n",
        "    for y in range(2,num):\n",
        "        if num%y == 0 :\n",
        "            check+=1\n",
        "    if check==0 and num != 1:\n",
        "        arr.append(num)"
      ],
      "execution_count": 8,
      "outputs": []
    },
    {
      "cell_type": "code",
      "metadata": {
        "id": "WE9IcsSZqjfC",
        "colab_type": "code",
        "colab": {}
      },
      "source": [
        " prime()"
      ],
      "execution_count": null,
      "outputs": []
    },
    {
      "cell_type": "markdown",
      "metadata": {
        "id": "CwXTsSnYrXY3",
        "colab_type": "text"
      },
      "source": [
        "Exception handling"
      ]
    },
    {
      "cell_type": "code",
      "metadata": {
        "id": "4ScDJ3Zyrecg",
        "colab_type": "code",
        "colab": {
          "base_uri": "https://localhost:8080/",
          "height": 34
        },
        "outputId": "e23769de-c42b-4fa7-940f-39833948a1bd"
      },
      "source": [
        " %%writefile test.txt\n",
        " \n",
        "This is the test file for the exception handling in python for the python course in letsupgrade Batch 7\n",
        "."
      ],
      "execution_count": 19,
      "outputs": [
        {
          "output_type": "stream",
          "text": [
            "Writing test.txt\n"
          ],
          "name": "stdout"
        }
      ]
    },
    {
      "cell_type": "code",
      "metadata": {
        "id": "45Dfz5o0r28I",
        "colab_type": "code",
        "colab": {
          "base_uri": "https://localhost:8080/",
          "height": 86
        },
        "outputId": "4edc6c4f-4128-4981-b907-0b8486c0d952"
      },
      "source": [
        "f = open(\"test.txt\",'r')\n",
        "f.read()"
      ],
      "execution_count": 20,
      "outputs": [
        {
          "output_type": "execute_result",
          "data": {
            "application/vnd.google.colaboratory.intrinsic+json": {
              "type": "string"
            },
            "text/plain": [
              "'\\nThis is the test file for the exception handling in python for the python course in letsupgrade Batch 7\\n.'"
            ]
          },
          "metadata": {
            "tags": []
          },
          "execution_count": 20
        }
      ]
    },
    {
      "cell_type": "code",
      "metadata": {
        "id": "uFtN_9_Vr7Tj",
        "colab_type": "code",
        "colab": {
          "base_uri": "https://localhost:8080/",
          "height": 54
        },
        "outputId": "a023418a-1ab9-4314-acf4-f92d0b3ba1c0"
      },
      "source": [
        " try:\n",
        "    f.write(\"my first file\\n\")\n",
        "except:\n",
        "    print(\"unable to write to file due to the read mode of file\")\n",
        "finally:\n",
        "    f.close()"
      ],
      "execution_count": 21,
      "outputs": [
        {
          "output_type": "stream",
          "text": [
            "unable to write to file due to the read mode of file\n"
          ],
          "name": "stdout"
        }
      ]
    }
  ]
}