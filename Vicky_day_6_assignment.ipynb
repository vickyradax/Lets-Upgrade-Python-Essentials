{
  "nbformat": 4,
  "nbformat_minor": 0,
  "metadata": {
    "colab": {
      "name": "Vicky day 6 assignment.ipynb",
      "provenance": [],
      "collapsed_sections": [],
      "authorship_tag": "ABX9TyOpR7n8krTxJvBEnlCufE3m",
      "include_colab_link": true
    },
    "kernelspec": {
      "name": "python3",
      "display_name": "Python 3"
    }
  },
  "cells": [
    {
      "cell_type": "markdown",
      "metadata": {
        "id": "view-in-github",
        "colab_type": "text"
      },
      "source": [
        "<a href=\"https://colab.research.google.com/github/vickyradax/Lets-Upgrade-Python-Essentials/blob/master/Vicky_day_6_assignment.ipynb\" target=\"_parent\"><img src=\"https://colab.research.google.com/assets/colab-badge.svg\" alt=\"Open In Colab\"/></a>"
      ]
    },
    {
      "cell_type": "code",
      "metadata": {
        "id": "mAfUqJksntW2",
        "colab_type": "code",
        "colab": {}
      },
      "source": [
        " class bank:\n",
        "    def __init__(self,ownername,balance):\n",
        "        self.ownername = ownername\n",
        "        self.balance = balance\n",
        " \n",
        "    def deposit(self,amount):\n",
        "        self.balance +=amount\n",
        "        print(\"your updated balance is :\", self.balance)\n",
        "        \n",
        "    def withdraw(self,amount):\n",
        "        if(self.balance>amount):\n",
        "            self.balance-=amount\n",
        "            print(\"your updated balance is :\", self.balance)\n",
        "        else:\n",
        "            print(\"you don't have enough cradit in your account, see you have only\",self.balance)"
      ],
      "execution_count": 1,
      "outputs": []
    },
    {
      "cell_type": "code",
      "metadata": {
        "id": "8EiamgoboRG_",
        "colab_type": "code",
        "colab": {}
      },
      "source": [
        "vicky = bank(\"Vicky\",45000)"
      ],
      "execution_count": 6,
      "outputs": []
    },
    {
      "cell_type": "code",
      "metadata": {
        "id": "vIXmb2ojoYPT",
        "colab_type": "code",
        "colab": {
          "base_uri": "https://localhost:8080/",
          "height": 34
        },
        "outputId": "91a91074-4c07-4ed2-ae4a-92d98469d548"
      },
      "source": [
        " vicky.deposit(5000)"
      ],
      "execution_count": 7,
      "outputs": [
        {
          "output_type": "stream",
          "text": [
            "your updated balance is : 50000\n"
          ],
          "name": "stdout"
        }
      ]
    },
    {
      "cell_type": "code",
      "metadata": {
        "id": "HyZ1oB1PosTp",
        "colab_type": "code",
        "colab": {
          "base_uri": "https://localhost:8080/",
          "height": 34
        },
        "outputId": "52a33067-ccd1-44c0-d42f-4840e47f3604"
      },
      "source": [
        "vicky.withdraw(45000)"
      ],
      "execution_count": 8,
      "outputs": [
        {
          "output_type": "stream",
          "text": [
            "your updated balance is : 5000\n"
          ],
          "name": "stdout"
        }
      ]
    },
    {
      "cell_type": "code",
      "metadata": {
        "id": "JQR31YwMoz5O",
        "colab_type": "code",
        "colab": {
          "base_uri": "https://localhost:8080/",
          "height": 54
        },
        "outputId": "b93edf86-b3a4-4a32-afa3-27be97a43906"
      },
      "source": [
        "vicky.withdraw(15000)"
      ],
      "execution_count": 9,
      "outputs": [
        {
          "output_type": "stream",
          "text": [
            "you don't have enough cradit in your account, see you have only 5000\n"
          ],
          "name": "stdout"
        }
      ]
    },
    {
      "cell_type": "markdown",
      "metadata": {
        "id": "L0UhSy67o7pm",
        "colab_type": "text"
      },
      "source": [
        "For this challenge,create a cone class that has two attributes:"
      ]
    },
    {
      "cell_type": "code",
      "metadata": {
        "id": "q4p9uiB6o9By",
        "colab_type": "code",
        "colab": {}
      },
      "source": [
        " import math\n",
        "class cone:\n",
        "    def __init__(self,radius,height):\n",
        "        self.radius=radius\n",
        "        self.height=height\n",
        "        \n",
        "    def volume(self):\n",
        "        vol = math.pi * (self.radius**2) * (self.height/3)\n",
        "        print(\"Volume of this cone is : \",vol)\n",
        "        \n",
        "    def surfaceArea(self):\n",
        "        area = math.pi* self.radius *(self.radius+(math.sqrt((self.radius**2)+(self.height**2))))\n",
        "        print(\"Surface area of this cone is \",area)"
      ],
      "execution_count": 11,
      "outputs": []
    },
    {
      "cell_type": "code",
      "metadata": {
        "id": "tprTBxS5pEbU",
        "colab_type": "code",
        "colab": {}
      },
      "source": [
        " con = cone(5,6)"
      ],
      "execution_count": 13,
      "outputs": []
    },
    {
      "cell_type": "code",
      "metadata": {
        "id": "5g8Qf4jmpLHG",
        "colab_type": "code",
        "colab": {
          "base_uri": "https://localhost:8080/",
          "height": 54
        },
        "outputId": "70956dcd-a0f7-4b6d-c750-0011a4ee7498"
      },
      "source": [
        " con.volume()"
      ],
      "execution_count": 14,
      "outputs": [
        {
          "output_type": "stream",
          "text": [
            "Volume of this cone is :  157.07963267948966\n"
          ],
          "name": "stdout"
        }
      ]
    },
    {
      "cell_type": "code",
      "metadata": {
        "id": "pAJa9M-TpPWh",
        "colab_type": "code",
        "colab": {
          "base_uri": "https://localhost:8080/",
          "height": 54
        },
        "outputId": "a8ff7866-bd32-4075-f79c-32f95e2d553a"
      },
      "source": [
        "con.surfaceArea()"
      ],
      "execution_count": 15,
      "outputs": [
        {
          "output_type": "stream",
          "text": [
            "Surface area of this cone is  201.22293136239685\n"
          ],
          "name": "stdout"
        }
      ]
    }
  ]
}